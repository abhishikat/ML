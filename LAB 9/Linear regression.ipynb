{
 "cells": [
  {
   "cell_type": "code",
   "execution_count": 4,
   "metadata": {},
   "outputs": [
    {
     "name": "stdout",
     "output_type": "stream",
     "text": [
      "[1.1999999999999995, 1.9999999999999996, 3.5999999999999996, 2.8, 4.3999999999999995]\n",
      "RMSE: 0.693\n"
     ]
    }
   ],
   "source": [
    "# Standalone simple linear regression example\n",
    "from math import sqrt\n",
    " \n",
    "# Calculate root mean squared error\n",
    "def rmse_metric(actual, predicted):\n",
    "\tsum_error = 0.0\n",
    "\tfor i in range(len(actual)):\n",
    "\t\tprediction_error = predicted[i] - actual[i]\n",
    "\t\tsum_error += (prediction_error ** 2)\n",
    "\tmean_error = sum_error / float(len(actual))\n",
    "\treturn sqrt(mean_error)\n",
    " \n",
    "# Evaluate regression algorithm on training dataset\n",
    "def evaluate_algorithm(dataset, algorithm):\n",
    "\ttest_set = list()\n",
    "\tfor row in dataset:\n",
    "\t\trow_copy = list(row)\n",
    "\t\trow_copy[-1] = None\n",
    "\t\ttest_set.append(row_copy)\n",
    "\tpredicted = algorithm(dataset, test_set)\n",
    "\tprint(predicted)\n",
    "\tactual = [row[-1] for row in dataset]\n",
    "\trmse = rmse_metric(actual, predicted)\n",
    "\treturn rmse\n",
    " \n",
    "# Calculate the mean value of a list of numbers\n",
    "def mean(values):\n",
    "\treturn sum(values) / float(len(values))\n",
    " \n",
    "# Calculate covariance between x and y\n",
    "def covariance(x, mean_x, y, mean_y):\n",
    "\tcovar = 0.0\n",
    "\tfor i in range(len(x)):\n",
    "\t\tcovar += (x[i] - mean_x) * (y[i] - mean_y)\n",
    "\treturn covar\n",
    " \n",
    "# Calculate the variance of a list of numbers\n",
    "def variance(values, mean):\n",
    "\treturn sum([(x-mean)**2 for x in values])\n",
    " \n",
    "# Calculate coefficients\n",
    "def coefficients(dataset):\n",
    "\tx = [row[0] for row in dataset]\n",
    "\ty = [row[1] for row in dataset]\n",
    "\tx_mean, y_mean = mean(x), mean(y)\n",
    "\tb1 = covariance(x, x_mean, y, y_mean) / variance(x, x_mean)\n",
    "\tb0 = y_mean - b1 * x_mean\n",
    "\treturn [b0, b1]\n",
    " \n",
    "# Simple linear regression algorithm\n",
    "def simple_linear_regression(train, test):\n",
    "\tpredictions = list()\n",
    "\tb0, b1 = coefficients(train)\n",
    "\tfor row in test:\n",
    "\t\tyhat = b0 + b1 * row[0]\n",
    "\t\tpredictions.append(yhat)\n",
    "\treturn predictions\n",
    " \n",
    "# Test simple linear regression\n",
    "dataset = [[1, 1], [2, 3], [4, 3], [3, 2], [5, 5]]\n",
    "rmse = evaluate_algorithm(dataset, simple_linear_regression)\n",
    "print('RMSE: %.3f' % (rmse))"
   ]
  },
  {
   "cell_type": "code",
   "execution_count": null,
   "metadata": {},
   "outputs": [],
   "source": []
  },
  {
   "cell_type": "code",
   "execution_count": null,
   "metadata": {},
   "outputs": [],
   "source": []
  }
 ],
 "metadata": {
  "kernelspec": {
   "display_name": "Python 3",
   "language": "python",
   "name": "python3"
  },
  "language_info": {
   "codemirror_mode": {
    "name": "ipython",
    "version": 3
   },
   "file_extension": ".py",
   "mimetype": "text/x-python",
   "name": "python",
   "nbconvert_exporter": "python",
   "pygments_lexer": "ipython3",
   "version": "3.8.3"
  }
 },
 "nbformat": 4,
 "nbformat_minor": 4
}
